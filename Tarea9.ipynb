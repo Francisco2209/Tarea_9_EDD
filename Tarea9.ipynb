{
  "nbformat": 4,
  "nbformat_minor": 0,
  "metadata": {
    "colab": {
      "name": "Tarea9.ipynb",
      "provenance": []
    },
    "kernelspec": {
      "name": "python3",
      "display_name": "Python 3"
    },
    "language_info": {
      "name": "python"
    }
  },
  "cells": [
    {
      "cell_type": "code",
      "metadata": {
        "id": "M44f8xC3XvRS"
      },
      "source": [
        "class StackADT:\n",
        "    def __init__( self ):\n",
        "        self.__data = list()\n",
        "\n",
        "    # regresa true si la pila está vacia\n",
        "    def is_empty( self ):\n",
        "         return   len( self.__data ) == 0\n",
        "\n",
        "    def get_lenght( self ):\n",
        "        return  len( self.__data) \n",
        "\n",
        "    def pop( self ):\n",
        "        if self.is_empty():\n",
        "            print( \"Pila vacia, nada que sacar \")\n",
        "        else:\n",
        "            return self.__data.pop()\n",
        "\n",
        "    def peek( self ):\n",
        "        if self.is_empty():\n",
        "            print( \"Pila vacia, nada que sacar \")\n",
        "        else:\n",
        "            return self.__data[ -1 ]\n",
        "\n",
        "    def push( self , value ):\n",
        "        self.__data.append( value )\n",
        "\n",
        "    def to_string( self ):\n",
        "        for item in self.__data[::-1]:\n",
        "            print( f\"| { item } |\")"
      ],
      "execution_count": 23,
      "outputs": []
    },
    {
      "cell_type": "code",
      "metadata": {
        "id": "c_3UoD3iYxDS"
      },
      "source": [
        "!cat Codigo_Sueldos.cpp"
      ],
      "execution_count": null,
      "outputs": []
    },
    {
      "cell_type": "code",
      "metadata": {
        "colab": {
          "base_uri": "https://localhost:8080/"
        },
        "id": "hNcw1q6wYE8o",
        "outputId": "69aeb5b6-1a02-49c3-96ea-b33d73cc55ab"
      },
      "source": [
        "entrada = open( 'Codigo_Sueldos.cpp' , 'rt' )\n",
        "codigo = entrada.read()\n",
        "pilaControl = StackADT()\n",
        "pilaControl.push(\"#\") #caracter de pila vacía\n",
        "\n",
        "#Balanceo de llaves\n",
        "\n",
        "for letra in codigo:\n",
        "    #print(f\"--> { letra } <--\")\n",
        "    if letra == '{':           # regla 1\n",
        "        pilaControl.push(\"{\")\n",
        "    elif letra == '}':         # regla 2\n",
        "        basura = pilaControl.pop()\n",
        "    else:\n",
        "        pass\n",
        "\n",
        "# NOTA: Este codigo aun no contempla desbalanceo de mas llaves de cierre\n",
        "\n",
        "if pilaControl.peek() == '#':\n",
        "    print(\"El codigo proporcionado está correctamente balanceado\")\n",
        "else:\n",
        "    print(\"El codigo no está balanceado en llaves { y }\")\n",
        "\n",
        "\n",
        "#Balanceo de parentesis\n",
        "\n",
        "entrada = open( 'Codigo_Sueldos.cpp' , 'rt' )\n",
        "codigo = entrada.read()\n",
        "pilaControl = StackADT()\n",
        "pilaControl.push(\"#\")\n",
        "\n",
        "for letra in codigo:\n",
        "    #print(f\"--> { letra } <--\")\n",
        "    if letra == '(':\n",
        "        pilaControl.push(\"(\")\n",
        "    elif letra == ')':\n",
        "        basura = pilaControl.pop()\n",
        "    else: \n",
        "        pass\n",
        "\n",
        "if pilaControl.peek() == '#':\n",
        "    print(\"El codigo proporcionado está correctamente balanceado\")\n",
        "else:\n",
        "    print(\"El codigo no está  balanceado en parentesis ( y )\")"
      ],
      "execution_count": 25,
      "outputs": [
        {
          "output_type": "stream",
          "name": "stdout",
          "text": [
            "El codigo proporcionado está correctamente balanceado\n",
            "El codigo proporcionado está correctamente balanceado\n"
          ]
        }
      ]
    },
    {
      "cell_type": "code",
      "metadata": {
        "id": "XXOqLyQCegta"
      },
      "source": [
        "!cat If-Else.c"
      ],
      "execution_count": null,
      "outputs": []
    },
    {
      "cell_type": "code",
      "metadata": {
        "colab": {
          "base_uri": "https://localhost:8080/"
        },
        "id": "wn7jg8AuZzfA",
        "outputId": "77cc1b87-ec20-4c29-a79e-f692fb349e9b"
      },
      "source": [
        "entrada2 = open( 'If-Else.c' , 'rt' )\n",
        "codigo = entrada2.read()\n",
        "pilaControl2 = StackADT()\n",
        "pilaControl2.push(\"#\") \n",
        "\n",
        "#Balanceo de llaves\n",
        "\n",
        "for letra in codigo:\n",
        "    if letra == '{':           \n",
        "        pilaControl2.push(\"{\")\n",
        "    elif letra == '}':         \n",
        "        basura = pilaControl2.pop()\n",
        "    else:\n",
        "        pass\n",
        "\n",
        "\n",
        "if pilaControl2.peek() == '#':\n",
        "    print(\"El codigo proporcionado está correctamente balanceado\")\n",
        "else:\n",
        "    print(\"El codigo no está balanceado en llaves { y }\")\n",
        "\n",
        "\n",
        "#Balanceo de parentesis\n",
        "\n",
        "entrada2 = open( 'Codigo_Sueldos.cpp' , 'rt' )\n",
        "codigo = entrada2.read()\n",
        "pilaControl2 = StackADT()\n",
        "pilaControl2.push(\"#\")\n",
        "\n",
        "for letra in codigo:\n",
        "\n",
        "    if letra == '(':\n",
        "        pilaControl2.push(\"(\")\n",
        "    elif letra == ')':\n",
        "        basura = pilaControl2.pop()\n",
        "    else: \n",
        "        pass\n",
        "\n",
        "if pilaControl2.peek() == '#':\n",
        "    print(\"El codigo proporcionado está correctamente balanceado\")\n",
        "else:\n",
        "    print(\"El codigo no está  balanceado en parentesis ( y )\")"
      ],
      "execution_count": 26,
      "outputs": [
        {
          "output_type": "stream",
          "name": "stdout",
          "text": [
            "El codigo proporcionado está correctamente balanceado\n",
            "El codigo proporcionado está correctamente balanceado\n"
          ]
        }
      ]
    },
    {
      "cell_type": "code",
      "metadata": {
        "id": "lB4_9RcaavTI"
      },
      "source": [
        "!cat Persona.java"
      ],
      "execution_count": null,
      "outputs": []
    },
    {
      "cell_type": "code",
      "metadata": {
        "colab": {
          "base_uri": "https://localhost:8080/"
        },
        "id": "WIGGO301bFD0",
        "outputId": "c7e9ea72-5553-40c0-b914-b4c9aa88ed5c"
      },
      "source": [
        "entrada3 = open( 'Persona.java' , 'rt' )\n",
        "codigo = entrada3.read()\n",
        "pilaControl3 = StackADT()\n",
        "pilaControl3.push(\"package\") \n",
        "\n",
        "#Balanceo de llaves\n",
        "\n",
        "for letra in codigo:\n",
        "    if letra == '{':           \n",
        "        pilaControl3.push(\"{\")\n",
        "    elif letra == '}':         \n",
        "        basura = pilaControl3.pop()\n",
        "    else:\n",
        "        pass\n",
        "\n",
        "\n",
        "if pilaControl3.peek() == 'package':\n",
        "    print(\"El codigo proporcionado está correctamente balanceado\")\n",
        "else:\n",
        "    print(\"El codigo no está balanceado en llaves { y }\")\n",
        "\n",
        "\n",
        "#Balanceo de parentesis\n",
        "\n",
        "entrada3 = open( 'Persona.java' , 'rt' )\n",
        "codigo = entrada3.read()\n",
        "pilaControl3 = StackADT()\n",
        "pilaControl3.push(\"package\")\n",
        "\n",
        "for letra in codigo:\n",
        "    if letra == '(':\n",
        "        pilaControl3.push(\"(\")\n",
        "    elif letra == ')':\n",
        "        basura = pilaControl3.pop()\n",
        "    else: \n",
        "        pass\n",
        "\n",
        "if pilaControl3.peek() == 'package':\n",
        "    print(\"El codigo proporcionado está correctamente balanceado\")\n",
        "else:\n",
        "    print(\"El codigo no está  balanceado en parentesis ( y )\")"
      ],
      "execution_count": 27,
      "outputs": [
        {
          "output_type": "stream",
          "name": "stdout",
          "text": [
            "El codigo proporcionado está correctamente balanceado\n",
            "El codigo proporcionado está correctamente balanceado\n"
          ]
        }
      ]
    }
  ]
}